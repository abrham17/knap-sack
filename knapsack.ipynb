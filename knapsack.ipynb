{
  "nbformat": 4,
  "nbformat_minor": 0,
  "metadata": {
    "colab": {
      "provenance": [],
      "authorship_tag": "ABX9TyNkK9wvzJW8c4FA3Ty5TXwy",
      "include_colab_link": true
    },
    "kernelspec": {
      "name": "python3",
      "display_name": "Python 3"
    },
    "language_info": {
      "name": "python"
    }
  },
  "cells": [
    {
      "cell_type": "markdown",
      "metadata": {
        "id": "view-in-github",
        "colab_type": "text"
      },
      "source": [
        "<a href=\"https://colab.research.google.com/github/abrham17/knap-sack/blob/main/knapsack.ipynb\" target=\"_parent\"><img src=\"https://colab.research.google.com/assets/colab-badge.svg\" alt=\"Open In Colab\"/></a>"
      ]
    },
    {
      "cell_type": "markdown",
      "source": [
        "# **knap-sack problem**\n",
        "\n",
        "given a set of objects which have both weight and value. what is the maximum\n",
        "value that we can obtain by selecting a subset of these objects such that the sum of the weights does not exceed a certain capacity."
      ],
      "metadata": {
        "id": "TdJnsEzZcsjC"
      }
    },
    {
      "cell_type": "markdown",
      "source": [
        "**Brute Force approach**"
      ],
      "metadata": {
        "id": "w5lqNcX3p1YL"
      }
    },
    {
      "cell_type": "code",
      "execution_count": null,
      "metadata": {
        "id": "SBnivJPfZceo"
      },
      "outputs": [],
      "source": [
        "def knapSackBf(cap , n , weights = [] , values = []):\n",
        "  if n==0 or cap ==0:\n",
        "    return 0\n",
        "  elif weights[n-1] > cap:\n",
        "    return knapSackBf(cap, n-1 , weights , values)\n",
        "  else:\n",
        "    return max(values[n-1] + knapSackBf(cap - weights[n-1] , n-1 , weights , values) , knapSackBf( cap , n-1 , weights , values))\n"
      ]
    },
    {
      "cell_type": "markdown",
      "source": [
        "**dynamic programming**"
      ],
      "metadata": {
        "id": "hzYjIKjnp8tm"
      }
    },
    {
      "cell_type": "code",
      "source": [
        "def knapSackDp(weights, values, n, capacity, memo):\n",
        "    if n == 0 or capacity == 0:\n",
        "        return 0\n",
        "\n",
        "    if (n, capacity) in memo:\n",
        "        return memo[(n, capacity)]\n",
        "\n",
        "    if weights[n - 1] > capacity:\n",
        "        result = knapSackDp(weights, values, n - 1, capacity, memo)\n",
        "    else:\n",
        "        result = max(values[n - 1] + knapSackDp(weights, values, n - 1, capacity - weights[n - 1], memo) , knapSackDp(weights, values, n - 1, capacity, memo))\n",
        "\n",
        "    memo[(n, capacity)] = result\n",
        "    return result\n"
      ],
      "metadata": {
        "id": "t0h6bcRnp6ZE"
      },
      "execution_count": null,
      "outputs": []
    },
    {
      "cell_type": "markdown",
      "source": [
        "**comparing the results using matplotlib and time**"
      ],
      "metadata": {
        "id": "egIbCLMnqCs1"
      }
    },
    {
      "cell_type": "code",
      "source": [
        "# calculating time for brute force starting from n 3 upto 30 by generating random numbers for weights and values\n",
        "import random\n",
        "import time\n",
        "ns = 31\n",
        "test_ns = list(range(3, ns))\n",
        "execution_times = []\n",
        "\n",
        "for n in test_ns:\n",
        "    weights = [random.randint(1, 20) for _ in range(n)]\n",
        "    values = [random.randint(1, 20) for _ in range(n)]\n",
        "    capacity = int(sum(weights) * 0.7)\n",
        "    # Time for the brute-force solution\n",
        "    start = time.time()\n",
        "    knapSackBf(capacity, n, weights, values)\n",
        "    end = time.time()\n",
        "\n",
        "    execution_times.append(end - start)\n",
        "print(execution_times)"
      ],
      "metadata": {
        "colab": {
          "base_uri": "https://localhost:8080/"
        },
        "id": "t1WLICMiqTfA",
        "outputId": "d554a081-2c45-4b96-f4f9-41f267de2a11"
      },
      "execution_count": null,
      "outputs": [
        {
          "output_type": "stream",
          "name": "stdout",
          "text": [
            "[1.1920928955078125e-05, 5.7220458984375e-06, 9.775161743164062e-06, 1.811981201171875e-05, 4.5299530029296875e-05, 7.748603820800781e-05, 0.00016021728515625, 0.00033211708068847656, 0.0006487369537353516, 0.0014836788177490234, 0.002656221389770508, 0.00535130500793457, 0.013272285461425781, 0.028400421142578125, 0.043363332748413086, 0.08748626708984375, 0.17708086967468262, 0.40805506706237793, 0.7226245403289795, 2.6436047554016113, 3.1154589653015137, 6.020983934402466, 13.247886657714844, 33.8762321472168, 60.91245722770691, 109.25842714309692, 225.6215522289276, 433.4278018474579]\n"
          ]
        }
      ]
    },
    {
      "cell_type": "code",
      "source": [
        "# calculating time for brute force starting from n 3 upto 30 by generating random numbers for weights and values\n",
        "import random\n",
        "import time\n",
        "ns = 31\n",
        "test_ns = list(range(3, ns))\n",
        "execution_times_dp = []\n",
        "\n",
        "for n in test_ns:\n",
        "    weights = [random.randint(1, 20) for _ in range(n)]\n",
        "    values = [random.randint(1, 20) for _ in range(n)]\n",
        "    capacity = int(sum(weights) * 0.7)\n",
        "    # Time for the dynamic rpogramming\n",
        "    start = time.time()\n",
        "    knapSackDp(weights , values , n ,capacity , {})\n",
        "    end = time.time()\n",
        "\n",
        "    execution_times_dp.append(end - start)\n",
        "print(execution_times_dp)"
      ],
      "metadata": {
        "colab": {
          "base_uri": "https://localhost:8080/"
        },
        "id": "7RrmYiHQtmtQ",
        "outputId": "aefce679-6a75-4566-9f16-9fa43b631e3f"
      },
      "execution_count": null,
      "outputs": [
        {
          "output_type": "stream",
          "name": "stdout",
          "text": [
            "[1.33514404296875e-05, 9.298324584960938e-06, 1.7642974853515625e-05, 3.147125244140625e-05, 6.175041198730469e-05, 0.00010085105895996094, 0.00010371208190917969, 0.00020003318786621094, 0.0002758502960205078, 0.00045371055603027344, 0.0004055500030517578, 0.0009210109710693359, 0.00044226646423339844, 0.0026128292083740234, 0.0009031295776367188, 0.001233816146850586, 0.002700328826904297, 0.0011951923370361328, 0.0021424293518066406, 0.0018634796142578125, 0.0015878677368164062, 0.001577615737915039, 0.0024306774139404297, 0.0023229122161865234, 0.001993417739868164, 0.0033659934997558594, 0.0024869441986083984, 0.002949237823486328]\n"
          ]
        }
      ]
    },
    {
      "cell_type": "code",
      "source": [
        "import matplotlib.pyplot as plt\n",
        "plt.title(\"Time difference between brute force and dynamic programming\")\n",
        "plt.plot(test_ns, execution_times, label='Brute Force' , c='b')\n",
        "plt.plot(test_ns, execution_times_dp, label='Dynamic Programming' , c= 'g')\n",
        "plt.show()"
      ],
      "metadata": {
        "colab": {
          "base_uri": "https://localhost:8080/",
          "height": 452
        },
        "id": "RjUhvtNBqRHO",
        "outputId": "de634726-ca55-4a26-b11e-701adc235287"
      },
      "execution_count": null,
      "outputs": [
        {
          "output_type": "display_data",
          "data": {
            "text/plain": [
              "<Figure size 640x480 with 1 Axes>"
            ],
            "image/png": "[encoded data removed]"
          },
          "metadata": {}
        }
      ]
    }
  ]
}