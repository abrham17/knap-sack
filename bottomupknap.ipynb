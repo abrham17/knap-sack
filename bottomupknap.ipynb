{
  "nbformat": 4,
  "nbformat_minor": 0,
  "metadata": {
    "colab": {
      "provenance": [],
      "gpuType": "V28",
      "authorship_tag": "ABX9TyP11nZFdsIkiZS/TWz+n5VK",
      "include_colab_link": true
    },
    "kernelspec": {
      "name": "python3",
      "display_name": "Python 3"
    },
    "language_info": {
      "name": "python"
    },
    "accelerator": "TPU"
  },
  "cells": [
    {
      "cell_type": "markdown",
      "metadata": {
        "id": "view-in-github",
        "colab_type": "text"
      },
      "source": [
        "<a href=\"https://colab.research.google.com/github/abrham17/knap-sack/blob/main/bottomupknap.ipynb\" target=\"_parent\"><img src=\"https://colab.research.google.com/assets/colab-badge.svg\" alt=\"Open In Colab\"/></a>"
      ]
    },
    {
      "cell_type": "code",
      "execution_count": null,
      "metadata": {
        "id": "_Xil2UlGTU2-"
      },
      "outputs": [],
      "source": []
    },
    {
      "cell_type": "markdown",
      "source": [
        "# **knap-sack problem**\n",
        "\n",
        "given a set of objects which have both weight and value. what is the maximum\n",
        "value that we can obtain by selecting a subset of these objects such that the sum of the weights does not exceed a certain capacity."
      ],
      "metadata": {
        "id": "TdJnsEzZcsjC"
      }
    },
    {
      "cell_type": "markdown",
      "source": [
        "**Brute Force approach**"
      ],
      "metadata": {
        "id": "w5lqNcX3p1YL"
      }
    },
    {
      "cell_type": "code",
      "execution_count": 7,
      "metadata": {
        "id": "SBnivJPfZceo"
      },
      "outputs": [],
      "source": [
        "def knapSackBf(cap, n, weights, values):\n",
        "    if n == len(weights) or cap == 0:\n",
        "        return 0\n",
        "    if weights[n] > cap:\n",
        "        return knapSackBf(cap, n + 1, weights, values)\n",
        "    else:\n",
        "        return max(values[n] + knapSackBf(cap - weights[n], n + 1, weights, values) , knapSackBf(cap,  n+ 1, weights, values))"
      ]
    },
    {
      "cell_type": "markdown",
      "source": [
        "**dynamic programming**"
      ],
      "metadata": {
        "id": "hzYjIKjnp8tm"
      }
    },
    {
      "cell_type": "code",
      "source": [
        "def knapSackDp(weights, values, n, capacity, memo):\n",
        "    if n == len(weights) or capacity == 0:\n",
        "        return 0\n",
        "\n",
        "    if (n, capacity) in memo:\n",
        "        return memo[(n, capacity)]\n",
        "\n",
        "    if weights[n] > capacity:\n",
        "        result = knapSackDp(weights, values, n + 1, capacity, memo)\n",
        "    else:\n",
        "        result = max(values[n] + knapSackDp(weights, values, n+1, capacity - weights[n], memo) , knapSackDp(weights, values, n+1, capacity, memo))\n",
        "\n",
        "    memo[(n, capacity)] = result\n",
        "    return result"
      ],
      "metadata": {
        "id": "t0h6bcRnp6ZE"
      },
      "execution_count": 13,
      "outputs": []
    },
    {
      "cell_type": "markdown",
      "source": [
        "**comparing the results using matplotlib and time**"
      ],
      "metadata": {
        "id": "egIbCLMnqCs1"
      }
    },
    {
      "cell_type": "code",
      "source": [
        "# calculating time for brute force starting from n 3 upto 30 by generating random numbers for weights and values\n",
        "import random\n",
        "import time\n",
        "ns = 31\n",
        "test_ns = list(range(3, ns))\n",
        "execution_times = []\n",
        "\n",
        "for n in test_ns:\n",
        "    weights = [random.randint(1, 20) for _ in range(n)]\n",
        "    values = [random.randint(1, 20) for _ in range(n)]\n",
        "    capacity = int(sum(weights) * 0.7)\n",
        "    # Time for the brute-force solution\n",
        "    start = time.time()\n",
        "    print(knapSackBf(capacity, 0, weights, values))\n",
        "    end = time.time()\n",
        "\n",
        "    execution_times.append(end - start)\n",
        "print(execution_times)"
      ],
      "metadata": {
        "colab": {
          "base_uri": "https://localhost:8080/"
        },
        "id": "t1WLICMiqTfA",
        "outputId": "adf78f0a-e399-4ff9-c00a-53a53ed994ca"
      },
      "execution_count": 11,
      "outputs": [
        {
          "output_type": "stream",
          "name": "stdout",
          "text": [
            "37\n",
            "52\n",
            "54\n",
            "45\n",
            "73\n",
            "82\n",
            "71\n",
            "90\n",
            "150\n",
            "94\n",
            "110\n",
            "135\n",
            "119\n",
            "138\n",
            "154\n",
            "150\n",
            "175\n",
            "146\n",
            "168\n",
            "229\n",
            "208\n",
            "262\n",
            "238\n",
            "311\n",
            "251\n",
            "295\n",
            "243\n",
            "274\n",
            "[4.696846008300781e-05, 1.1682510375976562e-05, 1.6450881958007812e-05, 2.47955322265625e-05, 4.2438507080078125e-05, 8.296966552734375e-05, 0.00016117095947265625, 0.0002715587615966797, 0.0005462169647216797, 0.0011370182037353516, 0.0024471282958984375, 0.005005598068237305, 0.009322643280029297, 0.018778085708618164, 0.038245201110839844, 0.07802033424377441, 0.1515357494354248, 0.3062570095062256, 0.6229426860809326, 1.2404735088348389, 2.5067057609558105, 5.011944770812988, 9.964808225631714, 20.132940769195557, 40.04763674736023, 81.173348903656, 162.06282663345337, 322.8933653831482]\n"
          ]
        }
      ]
    },
    {
      "cell_type": "code",
      "source": [
        "# calculating time for brute force starting from n 3 upto 30 by generating random numbers for weights and values\n",
        "import random\n",
        "import time\n",
        "ns = 31\n",
        "test_ns = list(range(3, ns))\n",
        "execution_times_dp = []\n",
        "\n",
        "for n in test_ns:\n",
        "    weights = [random.randint(1, 20) for _ in range(n)]\n",
        "    values = [random.randint(1, 20) for _ in range(n)]\n",
        "    capacity = int(sum(weights) * 0.7)\n",
        "    # Time for the brute-force solution\n",
        "    start = time.time()\n",
        "    knapSackDp(weights , values , 0 ,capacity , {})\n",
        "    end = time.time()\n",
        "\n",
        "    execution_times_dp.append(end - start)\n",
        "print(execution_times_dp)"
      ],
      "metadata": {
        "colab": {
          "base_uri": "https://localhost:8080/"
        },
        "id": "7RrmYiHQtmtQ",
        "outputId": "3aba1772-0d97-4ebf-ceba-2dad623bc8ba"
      },
      "execution_count": 14,
      "outputs": [
        {
          "output_type": "stream",
          "name": "stdout",
          "text": [
            "[1.2159347534179688e-05, 9.059906005859375e-06, 1.430511474609375e-05, 2.2172927856445312e-05, 3.266334533691406e-05, 7.772445678710938e-05, 0.0001163482666015625, 0.0001780986785888672, 0.00016570091247558594, 0.0001811981201171875, 0.0003254413604736328, 0.00047516822814941406, 0.0005650520324707031, 0.0006840229034423828, 0.000713348388671875, 0.0008542537689208984, 0.0009036064147949219, 0.0009145736694335938, 0.0011758804321289062, 0.0010333061218261719, 0.0010960102081298828, 0.0011396408081054688, 0.002237558364868164, 0.002007007598876953, 0.002002716064453125, 0.002033710479736328, 0.0022220611572265625, 0.0029582977294921875]\n"
          ]
        }
      ]
    },
    {
      "cell_type": "code",
      "source": [
        "import matplotlib.pyplot as plt\n",
        "plt.title(\"Time difference between brute force and dynamic programming\")\n",
        "plt.plot(test_ns, execution_times, label='Brute Force' , c='b')\n",
        "plt.plot(test_ns, execution_times_dp, label='Dynamic Programming' , c= 'g')\n",
        "plt.show()"
      ],
      "metadata": {
        "colab": {
          "base_uri": "https://localhost:8080/",
          "height": 452
        },
        "id": "RjUhvtNBqRHO",
        "outputId": "5e2b3235-c72c-428e-f593-62e637e993e6"
      },
      "execution_count": 15,
      "outputs": [
        {
          "output_type": "display_data",
          "data": {
            "text/plain": [
              "<Figure size 640x480 with 1 Axes>"
            ],
            "image/png": "[encoded data removed]"
          },
          "metadata": {}
        }
      ]
    }
  ]
}